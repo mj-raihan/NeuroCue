{
 "cells": [
  {
   "cell_type": "markdown",
   "metadata": {},
   "source": [
    "# Check EEG Data"
   ]
  },
  {
   "cell_type": "code",
   "execution_count": 1,
   "metadata": {},
   "outputs": [
    {
     "name": "stdout",
     "output_type": "stream",
     "text": [
      "28344\n",
      "1753780960.546125\n"
     ]
    }
   ],
   "source": [
    "import json\n",
    "import numpy as np\n",
    "\n",
    "# Open and read the JSON file\n",
    "with open(\"website/data/recorded_data_20250729_152431.json\", \"r\") as file:\n",
    "    data = json.load(file)  # Load JSON data into a Python dictionary\n",
    "\n",
    "print(len(data['eeg']))\n",
    "\n",
    "print(data['eeg'][0]['timestamp'])  # Output the JSON data"
   ]
  },
  {
   "cell_type": "code",
   "execution_count": 2,
   "metadata": {},
   "outputs": [
    {
     "name": "stdout",
     "output_type": "stream",
     "text": [
      "Estimated Sampling Rate: 256.03 Hz\n"
     ]
    }
   ],
   "source": [
    "# Extract all timestamps\n",
    "timestamps = [entry[\"timestamp\"] for entry in data[\"eeg\"]]\n",
    "\n",
    "# Compute time differences between consecutive timestamps\n",
    "time_diffs = np.diff(timestamps)\n",
    "\n",
    "# Compute the average sampling rate (Hz)\n",
    "sampling_rate = 1 / np.mean(time_diffs)\n",
    "\n",
    "print(f\"Estimated Sampling Rate: {sampling_rate:.2f} Hz\")"
   ]
  },
  {
   "cell_type": "markdown",
   "metadata": {},
   "source": [
    "# Video Information"
   ]
  },
  {
   "cell_type": "code",
   "execution_count": 5,
   "metadata": {},
   "outputs": [
    {
     "name": "stdout",
     "output_type": "stream",
     "text": [
      "Video frame count: 4379\n",
      "JSON frame count: 4379\n",
      "✅ Frame counts match!\n"
     ]
    }
   ],
   "source": [
    "import cv2\n",
    "import pandas as pd\n",
    "import json\n",
    "\n",
    "def compare_frame_counts(video_path, json_path):\n",
    "    # Load the video file\n",
    "    video = cv2.VideoCapture(video_path)\n",
    "    if not video.isOpened():\n",
    "        print(f\"Error: Could not open video file {video_path}\")\n",
    "        return\n",
    "    \n",
    "    # Get total frames in video\n",
    "    video_frame_count = int(video.get(cv2.CAP_PROP_FRAME_COUNT))\n",
    "    video.release()\n",
    "    \n",
    "    # Load the JSON file\n",
    "    try:\n",
    "        with open(json_path, 'r') as f:\n",
    "            frame_data = json.load(f)\n",
    "        json_frame_count = len(frame_data)\n",
    "    except Exception as e:\n",
    "        print(f\"Error loading JSON file: {e}\")\n",
    "        return\n",
    "    \n",
    "    # Compare frame counts\n",
    "    print(f\"Video frame count: {video_frame_count}\")\n",
    "    print(f\"JSON frame count: {json_frame_count}\")\n",
    "    \n",
    "    if video_frame_count == json_frame_count:\n",
    "        print(\"✅ Frame counts match!\")\n",
    "    else:\n",
    "        print(f\"❌ Frame counts don't match! Difference: {abs(video_frame_count - json_frame_count)} frames\")\n",
    "        print(f\"First few frame numbers from JSON: {[f['frame_number'] for f in frame_data[:5]]}\")\n",
    "\n",
    "# Example usage\n",
    "video_file = \"./website/data/recording_start_time_20250729_152207.avi\"  # Replace with your AVI file path\n",
    "csv_file = \"./website/data/recording_start_time_20250729_152207_timestamps.json\"     # Replace with your CSV file path\n",
    "\n",
    "compare_frame_counts(video_file, csv_file)"
   ]
  }
 ],
 "metadata": {
  "kernelspec": {
   "display_name": "base",
   "language": "python",
   "name": "python3"
  },
  "language_info": {
   "codemirror_mode": {
    "name": "ipython",
    "version": 3
   },
   "file_extension": ".py",
   "mimetype": "text/x-python",
   "name": "python",
   "nbconvert_exporter": "python",
   "pygments_lexer": "ipython3",
   "version": "3.10.9"
  }
 },
 "nbformat": 4,
 "nbformat_minor": 2
}
